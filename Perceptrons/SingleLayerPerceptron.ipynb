{
 "cells": [
  {
   "cell_type": "code",
   "execution_count": 3,
   "metadata": {},
   "outputs": [
    {
     "ename": "AttributeError",
     "evalue": "'function' object has no attribute 'info'",
     "output_type": "error",
     "traceback": [
      "\u001b[1;31m---------------------------------------------------------------------------\u001b[0m",
      "\u001b[1;31mAttributeError\u001b[0m                            Traceback (most recent call last)",
      "Cell \u001b[1;32mIn[3], line 47\u001b[0m\n\u001b[0;32m     45\u001b[0m \u001b[38;5;66;03m# Test the perceptron\u001b[39;00m\n\u001b[0;32m     46\u001b[0m \u001b[38;5;28;01mfor\u001b[39;00m inputs \u001b[38;5;129;01min\u001b[39;00m X:\n\u001b[1;32m---> 47\u001b[0m     \u001b[38;5;28mprint\u001b[39m(\u001b[38;5;124m\"\u001b[39m\u001b[38;5;124mInput: \u001b[39m\u001b[38;5;132;01m{}\u001b[39;00m\u001b[38;5;124m, Predicted Output: \u001b[39m\u001b[38;5;132;01m{}\u001b[39;00m\u001b[38;5;124m\"\u001b[39m\u001b[38;5;241m.\u001b[39mformat(\u001b[38;5;28;43minput\u001b[39;49m\u001b[38;5;241;43m.\u001b[39;49m\u001b[43minfo\u001b[49m, perceptron\u001b[38;5;241m.\u001b[39mpredict(inputs)))\n",
      "\u001b[1;31mAttributeError\u001b[0m: 'function' object has no attribute 'info'"
     ]
    }
   ],
   "source": [
    "import numpy as np\n",
    "\n",
    "# Activation function\n",
    "def step_function(x):\n",
    "    return np.where(x >= 0, 1, 0)\n",
    "\n",
    "class SingleLayerPerceptron:\n",
    "    def __init__(self, input_size, learning_rate=0.01, epochs=100):\n",
    "        self.weights = np.zeros(input_size + 1)  # +1 for the bias term\n",
    "        self.learning_rate = learning_rate\n",
    "        self.epochs = epochs\n",
    "\n",
    "    def predict(self, X):\n",
    "        # Adding bias term to the input\n",
    "        z = np.dot(X, self.weights[1:]) + self.weights[0]\n",
    "        return step_function(z)\n",
    "\n",
    "    def fit(self, X, y):\n",
    "        # Training the perceptron\n",
    "        for _ in range(self.epochs):\n",
    "            for i in range(len(X)):\n",
    "                prediction = self.predict(X[i])\n",
    "                error = y[i] - prediction\n",
    "                # Update weights and bias\n",
    "                self.weights[1:] += self.learning_rate * error * X[i]\n",
    "                self.weights[0] += self.learning_rate * error\n",
    "\n",
    "# Example usage\n",
    "if __name__ == \"__main__\":\n",
    "    # Dataset: AND gate example\n",
    "    X = np.array([\n",
    "        [0, 0],\n",
    "        [0, 1],\n",
    "        [1, 0],\n",
    "        [1, 1]\n",
    "    ])\n",
    "    y = np.array([0, 0, 0, 1])  # Output for AND gate\n",
    "\n",
    "    # Initialize the perceptron\n",
    "    perceptron = SingleLayerPerceptron(input_size=2, learning_rate=0.1, epochs=10)\n",
    "\n",
    "    # Train the perceptron\n",
    "    perceptron.fit(X, y)\n",
    "\n",
    "    # Test the perceptron\n",
    "    for inputs in X:\n",
    "        print(\"Input: {}, Predicted Output: {}\".format(input, perceptron.predict(inputs)))\n"
   ]
  }
 ],
 "metadata": {
  "kernelspec": {
   "display_name": "base",
   "language": "python",
   "name": "python3"
  },
  "language_info": {
   "codemirror_mode": {
    "name": "ipython",
    "version": 3
   },
   "file_extension": ".py",
   "mimetype": "text/x-python",
   "name": "python",
   "nbconvert_exporter": "python",
   "pygments_lexer": "ipython3",
   "version": "3.10.14"
  }
 },
 "nbformat": 4,
 "nbformat_minor": 2
}
