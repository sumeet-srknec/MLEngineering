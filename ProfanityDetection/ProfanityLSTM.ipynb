{
 "cells": [
  {
   "cell_type": "code",
   "execution_count": 7,
   "metadata": {},
   "outputs": [],
   "source": [
    "# pip install tensorflow nltk scikit-learn"
   ]
  },
  {
   "cell_type": "code",
   "execution_count": 8,
   "metadata": {},
   "outputs": [
    {
     "name": "stderr",
     "output_type": "stream",
     "text": [
      "[nltk_data] Downloading package punkt to\n",
      "[nltk_data]     C:\\Users\\ssharma\\AppData\\Roaming\\nltk_data...\n",
      "[nltk_data]   Package punkt is already up-to-date!\n"
     ]
    },
    {
     "data": {
      "text/plain": [
       "True"
      ]
     },
     "execution_count": 8,
     "metadata": {},
     "output_type": "execute_result"
    }
   ],
   "source": [
    "import numpy as np\n",
    "import pandas as pd\n",
    "import tensorflow as tf\n",
    "from tensorflow.keras.preprocessing.text import Tokenizer\n",
    "from tensorflow.keras.preprocessing.sequence import pad_sequences\n",
    "from tensorflow.keras.models import Sequential\n",
    "from tensorflow.keras.layers import Embedding, LSTM, Dense, SpatialDropout1D\n",
    "from sklearn.model_selection import train_test_split\n",
    "from nltk.tokenize import word_tokenize\n",
    "import nltk\n",
    "\n",
    "# Download necessary NLTK resources\n",
    "nltk.download('punkt')"
   ]
  },
  {
   "cell_type": "code",
   "execution_count": 9,
   "metadata": {},
   "outputs": [
    {
     "data": {
      "text/html": [
       "<div>\n",
       "<style scoped>\n",
       "    .dataframe tbody tr th:only-of-type {\n",
       "        vertical-align: middle;\n",
       "    }\n",
       "\n",
       "    .dataframe tbody tr th {\n",
       "        vertical-align: top;\n",
       "    }\n",
       "\n",
       "    .dataframe thead th {\n",
       "        text-align: right;\n",
       "    }\n",
       "</style>\n",
       "<table border=\"1\" class=\"dataframe\">\n",
       "  <thead>\n",
       "    <tr style=\"text-align: right;\">\n",
       "      <th></th>\n",
       "      <th>is_profane</th>\n",
       "      <th>text</th>\n",
       "    </tr>\n",
       "  </thead>\n",
       "  <tbody>\n",
       "    <tr>\n",
       "      <th>0</th>\n",
       "      <td>0</td>\n",
       "      <td>Then go to the village pump and suggest they c...</td>\n",
       "    </tr>\n",
       "    <tr>\n",
       "      <th>1</th>\n",
       "      <td>1</td>\n",
       "      <td>ANTI GREEK NATIONALIS -WIKIPEDIA \\r\\n\\r\\nHi Al...</td>\n",
       "    </tr>\n",
       "    <tr>\n",
       "      <th>2</th>\n",
       "      <td>1</td>\n",
       "      <td>Dis hoe wasnt dis violent on Lottery Ticket 😂😂</td>\n",
       "    </tr>\n",
       "    <tr>\n",
       "      <th>3</th>\n",
       "      <td>0</td>\n",
       "      <td>It is better for Atabay not helping the banned...</td>\n",
       "    </tr>\n",
       "    <tr>\n",
       "      <th>4</th>\n",
       "      <td>0</td>\n",
       "      <td>\"is in CamelCase.  \"\"SiCKO\"\" is not CamelCase,...</td>\n",
       "    </tr>\n",
       "  </tbody>\n",
       "</table>\n",
       "</div>"
      ],
      "text/plain": [
       "   is_profane                                               text\n",
       "0           0  Then go to the village pump and suggest they c...\n",
       "1           1  ANTI GREEK NATIONALIS -WIKIPEDIA \\r\\n\\r\\nHi Al...\n",
       "2           1     Dis hoe wasnt dis violent on Lottery Ticket 😂😂\n",
       "3           0  It is better for Atabay not helping the banned...\n",
       "4           0  \"is in CamelCase.  \"\"SiCKO\"\" is not CamelCase,..."
      ]
     },
     "execution_count": 9,
     "metadata": {},
     "output_type": "execute_result"
    }
   ],
   "source": [
    "df = pd.read_csv('./dataset/clean_data.csv').head(1000)\n",
    "# df.rename(columns=[{\"is_profane\": 'label'}], inplace=True)\n",
    "\n",
    "df.head()"
   ]
  },
  {
   "cell_type": "code",
   "execution_count": 10,
   "metadata": {},
   "outputs": [
    {
     "name": "stdout",
     "output_type": "stream",
     "text": [
      "0      Then go to the village pump and suggest they c...\n",
      "1      ANTI GREEK NATIONALIS -WIKIPEDIA \\r\\n\\r\\nHi Al...\n",
      "2         Dis hoe wasnt dis violent on Lottery Ticket 😂😂\n",
      "3      It is better for Atabay not helping the banned...\n",
      "4      \"is in CamelCase.  \"\"SiCKO\"\" is not CamelCase,...\n",
      "                             ...                        \n",
      "995     like fuccck man why yall bitches wearing wigs...\n",
      "996      I just wanna travel the world with my bitches 😩\n",
      "997    FUCK YOU BITCH\\r\\nKiss my ass, you dickless tr...\n",
      "998    depends what bbg stands for.\\r\\n\\r\\nAlso, was ...\n",
      "999    \" (UTC)\\r\\n\\r\\nHey, do you prefer \"\"useful vol...\n",
      "Name: text, Length: 1000, dtype: object\n",
      "0      0\n",
      "1      1\n",
      "2      1\n",
      "3      0\n",
      "4      0\n",
      "      ..\n",
      "995    1\n",
      "996    1\n",
      "997    1\n",
      "998    0\n",
      "999    0\n",
      "Name: is_profane, Length: 1000, dtype: int64\n",
      "Epoch 1/5\n"
     ]
    },
    {
     "name": "stderr",
     "output_type": "stream",
     "text": [
      "c:\\Users\\ssharma\\AppData\\Local\\miniforge3\\lib\\site-packages\\keras\\src\\layers\\core\\embedding.py:90: UserWarning: Argument `input_length` is deprecated. Just remove it.\n",
      "  warnings.warn(\n"
     ]
    },
    {
     "name": "stdout",
     "output_type": "stream",
     "text": [
      "25/25 - 4s - 176ms/step - accuracy: 0.8087 - loss: 0.5313 - val_accuracy: 0.8150 - val_loss: 0.4380\n",
      "Epoch 2/5\n",
      "25/25 - 1s - 40ms/step - accuracy: 0.8350 - loss: 0.3839 - val_accuracy: 0.8450 - val_loss: 0.3653\n",
      "Epoch 3/5\n",
      "25/25 - 1s - 39ms/step - accuracy: 0.8750 - loss: 0.3087 - val_accuracy: 0.8600 - val_loss: 0.3220\n",
      "Epoch 4/5\n",
      "25/25 - 1s - 39ms/step - accuracy: 0.9212 - loss: 0.2128 - val_accuracy: 0.8900 - val_loss: 0.2960\n",
      "Epoch 5/5\n",
      "25/25 - 1s - 41ms/step - accuracy: 0.9638 - loss: 0.1270 - val_accuracy: 0.9000 - val_loss: 0.2844\n",
      "7/7 - 0s - 20ms/step - accuracy: 0.9000 - loss: 0.2844\n",
      "Accuracy: 90.00%\n"
     ]
    }
   ],
   "source": [
    "sentences = df['text']\n",
    "print(sentences)\n",
    "\n",
    "labels = df['is_profane']\n",
    "print(labels)\n",
    "\n",
    "# Tokenize and pad sequences\n",
    "max_words = 5000\n",
    "max_len = 50\n",
    "\n",
    "tokenizer = Tokenizer(num_words=max_words, lower=True)\n",
    "tokenizer.fit_on_texts(sentences)\n",
    "sequences = tokenizer.texts_to_sequences(sentences)\n",
    "padded_sequences = pad_sequences(sequences, maxlen=max_len)\n",
    "\n",
    "# Split data into training and testing sets\n",
    "X_train, X_test, y_train, y_test = train_test_split(padded_sequences, labels, test_size=0.2, random_state=42)\n",
    "\n",
    "# Build LSTM model\n",
    "embedding_dim = 128\n",
    "\n",
    "model = Sequential()\n",
    "model.add(Embedding(max_words, embedding_dim, input_length=max_len))\n",
    "model.add(SpatialDropout1D(0.2))\n",
    "model.add(LSTM(100, dropout=0.2, recurrent_dropout=0.2))\n",
    "model.add(Dense(1, activation='sigmoid'))\n",
    "\n",
    "\n",
    "\n",
    "# Train the model\n",
    "batch_size = 32\n",
    "epochs = 5\n",
    "\n",
    "history = model.fit(X_train, np.array(y_train), epochs=epochs, batch_size=batch_size, \n",
    "                    validation_data=(X_test, np.array(y_test)), verbose=2)\n",
    "\n",
    "# Evaluate the model\n",
    "loss, accuracy = model.evaluate(X_test, np.array(y_test), verbose=2)\n",
    "print(f'Accuracy: {accuracy*100:.2f}%')\n"
   ]
  },
  {
   "cell_type": "code",
   "execution_count": 11,
   "metadata": {},
   "outputs": [],
   "source": [
    "# Make predictions on new data\n",
    "def predict_profanity(sentence):\n",
    "    sequence = tokenizer.texts_to_sequences([sentence])\n",
    "    padded_sequence = pad_sequences(sequence, maxlen=max_len)\n",
    "    prediction = model.predict(padded_sequence)\n",
    "    print(prediction)\n",
    "    return prediction[0][0]\n"
   ]
  },
  {
   "cell_type": "code",
   "execution_count": 12,
   "metadata": {},
   "outputs": [
    {
     "name": "stdout",
     "output_type": "stream",
     "text": [
      "\u001b[1m1/1\u001b[0m \u001b[32m━━━━━━━━━━━━━━━━━━━━\u001b[0m\u001b[37m\u001b[0m \u001b[1m0s\u001b[0m 337ms/step\n",
      "[[0.60901487]]\n",
      "Sentence: \"I love you\" - Profanity Probability: 0.61\n",
      "\u001b[1m1/1\u001b[0m \u001b[32m━━━━━━━━━━━━━━━━━━━━\u001b[0m\u001b[37m\u001b[0m \u001b[1m0s\u001b[0m 45ms/step\n",
      "[[0.41655546]]\n",
      "Sentence: \"You are so dumb\" - Profanity Probability: 0.42\n",
      "\u001b[1m1/1\u001b[0m \u001b[32m━━━━━━━━━━━━━━━━━━━━\u001b[0m\u001b[37m\u001b[0m \u001b[1m0s\u001b[0m 47ms/step\n",
      "[[0.08622228]]\n",
      "Sentence: \"This is fantastic\" - Profanity Probability: 0.09\n",
      "\u001b[1m1/1\u001b[0m \u001b[32m━━━━━━━━━━━━━━━━━━━━\u001b[0m\u001b[37m\u001b[0m \u001b[1m0s\u001b[0m 45ms/step\n",
      "[[0.6747503]]\n",
      "Sentence: \"You are a fool\" - Profanity Probability: 0.67\n",
      "\u001b[1m1/1\u001b[0m \u001b[32m━━━━━━━━━━━━━━━━━━━━\u001b[0m\u001b[37m\u001b[0m \u001b[1m0s\u001b[0m 42ms/step\n",
      "[[0.50418556]]\n",
      "Sentence: \"Biatch is hoe\" - Profanity Probability: 0.50\n",
      "\u001b[1m1/1\u001b[0m \u001b[32m━━━━━━━━━━━━━━━━━━━━\u001b[0m\u001b[37m\u001b[0m \u001b[1m0s\u001b[0m 42ms/step\n",
      "[[0.31595683]]\n",
      "Sentence: \"ANTI GREEK NATIONALIS -WIKIPEDIA\" - Profanity Probability: 0.32\n",
      "\u001b[1m1/1\u001b[0m \u001b[32m━━━━━━━━━━━━━━━━━━━━\u001b[0m\u001b[37m\u001b[0m \u001b[1m0s\u001b[0m 40ms/step\n",
      "[[0.8961495]]\n",
      "Sentence: \"Dis hoe wasnt dis violent on Lottery Ticket\" - Profanity Probability: 0.90\n",
      "\u001b[1m1/1\u001b[0m \u001b[32m━━━━━━━━━━━━━━━━━━━━\u001b[0m\u001b[37m\u001b[0m \u001b[1m0s\u001b[0m 41ms/step\n",
      "[[0.31523255]]\n",
      "Sentence: \"Hi Bruv, Hope you are doing well\" - Profanity Probability: 0.32\n",
      "\u001b[1m1/1\u001b[0m \u001b[32m━━━━━━━━━━━━━━━━━━━━\u001b[0m\u001b[37m\u001b[0m \u001b[1m0s\u001b[0m 40ms/step\n",
      "[[0.2412074]]\n",
      "Sentence: \"Love this product\" - Profanity Probability: 0.24\n",
      "\u001b[1m1/1\u001b[0m \u001b[32m━━━━━━━━━━━━━━━━━━━━\u001b[0m\u001b[37m\u001b[0m \u001b[1m0s\u001b[0m 40ms/step\n",
      "[[0.7270198]]\n",
      "Sentence: \"She's a hoe\" - Profanity Probability: 0.73\n",
      "\u001b[1m1/1\u001b[0m \u001b[32m━━━━━━━━━━━━━━━━━━━━\u001b[0m\u001b[37m\u001b[0m \u001b[1m0s\u001b[0m 44ms/step\n",
      "[[0.06654415]]\n",
      "Sentence: \"Suck water from bottle\" - Profanity Probability: 0.07\n",
      "\u001b[1m1/1\u001b[0m \u001b[32m━━━━━━━━━━━━━━━━━━━━\u001b[0m\u001b[37m\u001b[0m \u001b[1m0s\u001b[0m 41ms/step\n",
      "[[0.00793395]]\n",
      "Sentence: \"write the article ibtch\" - Profanity Probability: 0.01\n",
      "\u001b[1m1/1\u001b[0m \u001b[32m━━━━━━━━━━━━━━━━━━━━\u001b[0m\u001b[37m\u001b[0m \u001b[1m0s\u001b[0m 37ms/step\n",
      "[[0.5721317]]\n",
      "Sentence: \"Idiot, A cup of cum for you! DRINK IT ALL PLZ\" - Profanity Probability: 0.57\n",
      "\u001b[1m1/1\u001b[0m \u001b[32m━━━━━━━━━━━━━━━━━━━━\u001b[0m\u001b[37m\u001b[0m \u001b[1m0s\u001b[0m 50ms/step\n",
      "[[0.5721317]]\n",
      "Sentence: \"A cup of cum for you! DRINK IT ALL PLZ\" - Profanity Probability: 0.57\n"
     ]
    }
   ],
   "source": [
    "# Test the model\n",
    "test_sentences = [\n",
    "    \"I love you\",\n",
    "    \"You are so dumb\",\n",
    "    \"This is fantastic\",\n",
    "    \"You are a fool\",\n",
    "    \"Biatch is hoe\",\n",
    "    \"ANTI GREEK NATIONALIS -WIKIPEDIA\",\n",
    "    \"Dis hoe wasnt dis violent on Lottery Ticket\"\n",
    "]\n",
    "\n",
    "for sentence in test_sentences:\n",
    "    prediction = predict_profanity(sentence)\n",
    "    print(f'Sentence: \"{sentence}\" - Profanity Probability: {prediction:.2f}')\n",
    "\n",
    "\n",
    "testData = [\"Hi Bruv, Hope you are doing well\", \"Love this product\", \"She's a hoe\", 'Suck water from bottle', \"write the article ibtch\", \"Idiot, A cup of cum for you! DRINK IT ALL PLZ\", \"A cup of cum for you! DRINK IT ALL PLZ\"]\n",
    "\n",
    "for text in testData:\n",
    "    prediction = predict_profanity(text)\n",
    "    print(f'Sentence: \"{text}\" - Profanity Probability: {prediction:.2f}')\n"
   ]
  }
 ],
 "metadata": {
  "kernelspec": {
   "display_name": "base",
   "language": "python",
   "name": "python3"
  },
  "language_info": {
   "codemirror_mode": {
    "name": "ipython",
    "version": 3
   },
   "file_extension": ".py",
   "mimetype": "text/x-python",
   "name": "python",
   "nbconvert_exporter": "python",
   "pygments_lexer": "ipython3",
   "version": "3.10.14"
  }
 },
 "nbformat": 4,
 "nbformat_minor": 2
}
